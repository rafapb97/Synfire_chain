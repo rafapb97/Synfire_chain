{
 "cells": [
  {
   "cell_type": "markdown",
   "id": "05bb54e0",
   "metadata": {},
   "source": [
    "# Assignment\n",
    "Hi Rafael,\n",
    "\n",
    "Hope you are well. The next step in our process at Innatera is a coding assignment with spiking neural networks. The task below is to be completed and returned to us by 13th May. \n",
    "\n",
    "Task\n",
    "Implement a looped Synfire chain with 5 layers, each layer with 5 neurons. Layers are fully connected in a feed-forward fashion. The last layer is fully-connected back to the first layer completing the loop. Input is provided in the form of a single spike broadcasted to all neurons in the first layer with sufficient synaptic strength to make all 5 neurons spike once.\n",
    "The implementation is to be done in Lava and in any other open-source simulator of your choice (this can be your own simulator as well). The language choice is up to you.\n",
    "\n",
    "a) Plot the spike raster for at least 3 oscillations.\n",
    "b) Compare differences, if any, between the two simulators.\n",
    "c) Tune parameters of the network such that the 100th spike occurs at 100ms from the input spike.\n",
    "\n",
    "Usage of open-source repositories is allowed as long as the functions used can be explained. Please send your files as an archive. A README file to allow us to run it should also be present.\n",
    "Please do not hesitate to ask any questions for clarification if any. Also feel free to make any assumptions that you can reasonably justify. "
   ]
  },
  {
   "cell_type": "code",
   "execution_count": 1,
   "id": "8b6ff13b",
   "metadata": {},
   "outputs": [
    {
     "name": "stderr",
     "output_type": "stream",
     "text": [
      "INFO       Cache size for target 'cython': 1338914223 MB.\n",
      "You can call clear_cache('cython') to delete all files from the cache or manually delete files in the 'C:\\Users\\rjpbe\\.cython\\brian_extensions' directory. [brian2]\n"
     ]
    }
   ],
   "source": [
    "import numpy as np\n",
    "import matplotlib.pyplot as plt\n",
    "from brian2 import *\n",
    "%matplotlib inline"
   ]
  },
  {
   "cell_type": "markdown",
   "id": "e505c4ae",
   "metadata": {},
   "source": [
    "First I will create the LIF model. I assume that the network must be stable. Since Brian2 has many more options than Lava, e.g. you can define a non-CuBa synapses, this part of the assignment will be much simpler. The objective is to show that I can solve the problem in different ways given the directives."
   ]
  },
  {
   "cell_type": "code",
   "execution_count": 2,
   "id": "1a592a38",
   "metadata": {},
   "outputs": [],
   "source": [
    "# The network must have at least 3 oscillations and the 100th spike must be at the 100th ms\n",
    "duration = 101*ms\n",
    "\n",
    "#I set the resting potential at 0 since there is no necessity of replicating bio-inspired behaviours\n",
    "Vr = 0 * mV\n",
    "\n",
    "#I set the threshold at 20 mv\n",
    "Vt = 20 * mV\n",
    "\n",
    "#The decay will be 10 ms, although the network will does not have subthreshold dynamics so this parameter doesnt make a difference\n",
    "tau = 10*ms\n",
    "\n",
    "#5 neurons per layer\n",
    "layer_width=5\n",
    "\n",
    "#5 layers\n",
    "n_layers=5\n",
    "\n",
    "#The value of the weights will be 5. Note that this number has been chosen so that the different pools of neurons \n",
    "#will only elicit an action potential if the 5 neurons spike at the same spike-time.\n",
    "weight = 5*mV\n",
    "\n",
    "#Equation defining the LIF\n",
    "eqs = '''dv/dt = ((Vr - v) + I)/tau : volt\n",
    "         I : volt'''\n",
    "\n",
    "#Creation of the pools of neurons.\n",
    "group = NeuronGroup(layer_width*n_layers, eqs,\n",
    "                    threshold='v > Vt',\n",
    "                    reset='v = Vr', method=\"euler\")\n"
   ]
  },
  {
   "cell_type": "code",
   "execution_count": 3,
   "id": "81405e8d",
   "metadata": {},
   "outputs": [],
   "source": [
    "#Creation of a spike generator to send the first spike to the first layer. It has been set to spike at the 2nd ms to tune\n",
    "#the network so that the 100th spike lies at the 100th ms.\n",
    "spkgen=SpikeGeneratorGroup(layer_width,np.arange(layer_width),2*np.ones(layer_width)*1*ms)\n",
    "\n",
    "#Creation of the indexes that define each of the layers\n",
    "syn=[[(m)*layer_width+k for k in range(layer_width)] for m in range(n_layers)]\n",
    "\n",
    "#Synapse from the spike generator to the first layer. Note that it is not a CuBa synapse, meaning that the computations\n",
    "#in the other part of the assignment are not needed.\n",
    "syn_spkgen = Synapses(spkgen, group[:layer_width], on_pre='v+=weight')\n",
    "syn_spkgen.connect()\n",
    "\n",
    "#synapse from each of the layers to the next.\n",
    "syn_group = Synapses(group, group, on_pre='v+=weight')\n",
    "for k in range(layer_width-1):\n",
    "    syn_group.connect( i = syn[k], j=syn[(k+1)%layer_width],n=layer_width)\n",
    "\n",
    "#Synaptic delay between layers to adjust dynamics\n",
    "syn_group.delay=6*ms\n",
    "\n",
    "#I created a different synapse from the last layer to the first so that it is instant.\n",
    "syn_rec = Synapses(group, group, on_pre='v+=weight')\n",
    "syn_rec.connect( i = syn[4], j=syn[(0)],n=layer_width)\n",
    "syn_rec.delay = 0*ms\n",
    "\n",
    "#Monitors to record the spikes and the voltage of the layers\n",
    "monV= StateMonitor(group,\"v\",record=True)\n",
    "monU= StateMonitor(group,\"I\",record=True)\n",
    "mon_spkgen = SpikeMonitor(spkgen)\n",
    "mon_group = SpikeMonitor(group)\n"
   ]
  },
  {
   "cell_type": "code",
   "execution_count": 4,
   "id": "443937a4",
   "metadata": {},
   "outputs": [],
   "source": [
    "#Run simulation\n",
    "run(duration)"
   ]
  },
  {
   "cell_type": "code",
   "execution_count": 5,
   "id": "35b55355",
   "metadata": {},
   "outputs": [
    {
     "data": {
      "text/plain": [
       "Text(0.5, 1.0, 'Raster plot')"
      ]
     },
     "execution_count": 5,
     "metadata": {},
     "output_type": "execute_result"
    },
    {
     "data": {
      "image/png": "[encoded data removed]",
      "text/plain": [
       "<Figure size 432x288 with 1 Axes>"
      ]
     },
     "metadata": {
      "needs_background": "light"
     },
     "output_type": "display_data"
    }
   ],
   "source": [
    "#Raster plot showing all the layers.\n",
    "plot(mon_spkgen.t/ms, mon_spkgen.i, '.')\n",
    "plot(mon_group.t/ms, mon_group.i, '.')\n",
    "plt.xlabel(\"Time (ms)\")\n",
    "plt.ylabel(\"Neuron index\")\n",
    "plt.title(\"Raster plot\")"
   ]
  },
  {
   "cell_type": "markdown",
   "id": "549735be",
   "metadata": {},
   "source": [
    "Note that the layers are evenly spaced. The layers are connected as specified, in a feed-forward fully connected fashion, with a recurrent connection from the first to the last."
   ]
  },
  {
   "cell_type": "code",
   "execution_count": 6,
   "id": "4a1229ba",
   "metadata": {},
   "outputs": [
    {
     "data": {
      "text/plain": [
       "Text(0.5, 1.0, 'Voltage of a neuron of in the last layer')"
      ]
     },
     "execution_count": 6,
     "metadata": {},
     "output_type": "execute_result"
    },
    {
     "data": {
      "image/png": "[encoded data removed]",
      "text/plain": [
       "<Figure size 432x288 with 1 Axes>"
      ]
     },
     "metadata": {
      "needs_background": "light"
     },
     "output_type": "display_data"
    }
   ],
   "source": [
    "plot(monV.t/ms,monV.v[24]/mV)\n",
    "plt.xlabel(\"Time (ms)\")\n",
    "plt.ylabel(\"Voltage (mV)\")\n",
    "plt.title(\"Voltage of a neuron of in the last layer\")"
   ]
  },
  {
   "cell_type": "markdown",
   "id": "99eabc47",
   "metadata": {},
   "source": [
    "The spikes from the last layer (in which the 100th spike is) lie at the 100th ms."
   ]
  },
  {
   "cell_type": "markdown",
   "id": "785f91e6",
   "metadata": {},
   "source": [
    "## Comparison between the CuBa LIF model and this one\n",
    "The main difference between the two models is the way in which the synapses propagate the action potential. Note that this model is way simpler, since its subthrshold dynamics are not employed. However, if it was desired a change in the difference between spike-times from one oscillation to the next one, i.e. an unstable synfire chain, this model would need some input current. The CuBA LIF model in Lava would just need to modify its decays or its initial delays to accomplish it."
   ]
  }
 ],
 "metadata": {
  "kernelspec": {
   "display_name": "Python [conda env:brian2] *",
   "language": "python",
   "name": "conda-env-brian2-py"
  },
  "language_info": {
   "codemirror_mode": {
    "name": "ipython",
    "version": 3
   },
   "file_extension": ".py",
   "mimetype": "text/x-python",
   "name": "python",
   "nbconvert_exporter": "python",
   "pygments_lexer": "ipython3",
   "version": "3.8.10"
  }
 },
 "nbformat": 4,
 "nbformat_minor": 5
}
